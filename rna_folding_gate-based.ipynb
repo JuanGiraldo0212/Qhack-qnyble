{
 "cells": [
  {
   "cell_type": "markdown",
   "id": "1d3bd04d",
   "metadata": {},
   "source": [
    "## References:   \n",
    "\n",
    "### Qiskit runtime and VQE:\n",
    "https://qiskit.org/documentation/nature/tutorials/07_leveraging_qiskit_runtime.html\n",
    "https://github.com/Qiskit-Partners/qiskit-runtime/blob/main/tutorials/vqe.ipynb \n",
    "### QUBO on Qiskit:\n",
    "https://qiskit.org/documentation/tutorials/optimization/3_minimum_eigen_optimizer.html\n",
    "https://qiskit.org/documentation/tutorials/optimization/2_converters_for_quadratic_programs.html\n",
    "https://qiskit.org/documentation/tutorials/optimization/1_quadratic_program.html"
   ]
  },
  {
   "cell_type": "code",
   "execution_count": 1,
   "id": "03fdec13",
   "metadata": {},
   "outputs": [],
   "source": [
    "from qiskit import BasicAer\n",
    "from qiskit.utils import algorithm_globals, QuantumInstance\n",
    "from qiskit.algorithms import QAOA\n",
    "from qiskit_optimization.algorithms import (\n",
    "    MinimumEigenOptimizer,\n",
    "    RecursiveMinimumEigenOptimizer,\n",
    "    SolutionSample,\n",
    "    OptimizationResultStatus,\n",
    ")"
   ]
  },
  {
   "cell_type": "markdown",
   "id": "198195a4",
   "metadata": {},
   "source": [
    "## Construction of ising hamiltonian"
   ]
  },
  {
   "cell_type": "code",
   "execution_count": 3,
   "id": "b1e21844",
   "metadata": {},
   "outputs": [],
   "source": [
    "def potential_pseudoknots(stems_potential):\n",
    "\n",
    "    pseudoknots_potential = {}\n",
    "    pseudoknot_penalty = 0.5\n",
    "\n",
    "    for i in range(len(stems_potential)):\n",
    "        for j in range(i + 1, len(stems_potential)):\n",
    "            \n",
    "            stem1 = stems_potential[i]\n",
    "            stem2 = stems_potential[j]\n",
    "    \n",
    "            i_a = stem1[0]\n",
    "            j_a = stem1[1]\n",
    "            i_b = stem2[0]\n",
    "            j_b = stem2[1]\n",
    "    \n",
    "            penalty = 1\n",
    "    \n",
    "            if (i_a < i_b and i_b < j_a and j_a < j_b) or (i_b < i_a and i_a < j_b and j_b < j_a):\n",
    "        \n",
    "                penalty = pseudoknot_penalty\n",
    "    \n",
    "            pseudoknots_potential[(j,i)] = penalty\n",
    "            \n",
    "    return pseudoknots_potential"
   ]
  },
  {
   "cell_type": "code",
   "execution_count": 4,
   "id": "f43b8136",
   "metadata": {},
   "outputs": [],
   "source": [
    "def potential_overlaps(stems_potential):\n",
    "    \n",
    "    overlaps_potential = {}\n",
    "    overlap_penalty = 1e6\n",
    "\n",
    "    for i in range(len(stems_potential)):\n",
    "        for j in range(i+1, len(stems_potential)):\n",
    "    \n",
    "            stem1 = stems_potential[i]\n",
    "            stem2 = stems_potential[j]\n",
    "    \n",
    "            penalty = 0\n",
    "    \n",
    "            stem1_cspan1 = set(range(stem1[1]-stem1[2]+1, stem1[1]+1))\n",
    "            stem2_cspan1 = set(range(stem2[1]-stem2[2]+1, stem2[1]+1))\n",
    "            \n",
    "            stem1_cspan2 = set(range(stem1[0], stem1[0]+stem1[2]))\n",
    "            stem2_cspan2 = set(range(stem2[0], stem2[0]+stem2[2]))\n",
    "    \n",
    "            if (len(stem1_cspan1 & stem2_cspan1) != 0) or (len(stem1_cspan2 & stem2_cspan2) != 0)  or (len(stem1_cspan1 & stem2_cspan2) != 0) or (len(stem1_cspan2 & stem2_cspan1) != 0):\n",
    "        \n",
    "                penalty = overlap_penalty\n",
    "        \n",
    "            overlaps_potential[(j,i)] = penalty\n",
    "            \n",
    "    return overlaps_potential"
   ]
  },
  {
   "cell_type": "code",
   "execution_count": 5,
   "id": "f864fb14",
   "metadata": {},
   "outputs": [],
   "source": [
    "stems = [(1,14,3),(5,18,3),(9,18,5)] \n",
    "CL = 1\n",
    "CB = 1\n",
    "mu = 3\n",
    "pseudoknot = potential_pseudoknots(stems)\n",
    "overlap = potential_overlaps(stems)\n",
    "linear_terms = []\n",
    "quadratic_terms = {}"
   ]
  },
  {
   "cell_type": "code",
   "execution_count": 6,
   "id": "a48ca569",
   "metadata": {},
   "outputs": [
    {
     "name": "stdout",
     "output_type": "stream",
     "text": [
      "{(1, 0): 0.5, (2, 0): 0.5, (2, 1): 1}\n",
      "{(1, 0): 0, (2, 0): 1000000.0, (2, 1): 1000000.0}\n"
     ]
    }
   ],
   "source": [
    "print(pseudoknot)\n",
    "print(overlap)"
   ]
  },
  {
   "cell_type": "code",
   "execution_count": 7,
   "id": "32fcfba3",
   "metadata": {},
   "outputs": [],
   "source": [
    "def calculate_linear_term(i):\n",
    "    stem = stems[i]\n",
    "    k = stem[2]\n",
    "    return CL*(k*k-2*k*mu+mu*mu)-CB*k*k"
   ]
  },
  {
   "cell_type": "code",
   "execution_count": 8,
   "id": "bb175643",
   "metadata": {},
   "outputs": [],
   "source": [
    "def calculate_quadratic_term(i,j):\n",
    "    k_i = stems[i][2]\n",
    "    k_j = stems[j][2]\n",
    "    return 2*CB*k_i*k_j*pseudoknot[(i,j)]+overlap[(i,j)]"
   ]
  },
  {
   "cell_type": "code",
   "execution_count": 9,
   "id": "89909be3",
   "metadata": {},
   "outputs": [],
   "source": [
    "from qiskit_optimization import QuadraticProgram\n",
    "qubo = QuadraticProgram()\n",
    "for i in range(0,len(stems)):\n",
    "    qubo.binary_var('q'+str(i))\n",
    "    linear_terms.append(calculate_linear_term(i))\n",
    "for i in range(0,len(stems)):\n",
    "    for j in range(0,len(stems)):\n",
    "        if i>j:\n",
    "            quadratic_terms[('q'+str(i),'q'+str(j))] = calculate_quadratic_term(i,j)\n",
    "qubo.minimize(linear=linear_terms, quadratic=quadratic_terms)"
   ]
  },
  {
   "cell_type": "code",
   "execution_count": 10,
   "id": "7b1215b6",
   "metadata": {},
   "outputs": [
    {
     "name": "stdout",
     "output_type": "stream",
     "text": [
      "\\ This file has been generated by DOcplex\n",
      "\\ ENCODING=ISO-8859-1\n",
      "\\Problem name: CPLEX\n",
      "\n",
      "Minimize\n",
      " obj: - 9 q0 - 9 q1 - 21 q2 + [ 18 q0*q1 + 2000030 q0*q2 + 2000060 q1*q2 ]/2\n",
      "Subject To\n",
      "\n",
      "Bounds\n",
      " 0 <= q0 <= 1\n",
      " 0 <= q1 <= 1\n",
      " 0 <= q2 <= 1\n",
      "\n",
      "Binaries\n",
      " q0 q1 q2\n",
      "End\n",
      "\n"
     ]
    }
   ],
   "source": [
    "print(qubo.export_as_lp_string())"
   ]
  },
  {
   "cell_type": "code",
   "execution_count": 11,
   "id": "b570b904",
   "metadata": {
    "scrolled": true
   },
   "outputs": [
    {
     "name": "stdout",
     "output_type": "stream",
     "text": [
      "offset: 499994.0\n",
      "operator:\n",
      "-500000.75 * ZII\n",
      "- 250005.25 * IZI\n",
      "+ 250007.5 * ZZI\n",
      "- 250001.5 * IIZ\n",
      "+ 250003.75 * ZIZ\n",
      "+ 2.25 * IZZ\n"
     ]
    }
   ],
   "source": [
    "op, offset = qubo.to_ising()\n",
    "print('offset: {}'.format(offset))\n",
    "print('operator:')\n",
    "print(op)"
   ]
  },
  {
   "cell_type": "code",
   "execution_count": 18,
   "id": "6bbd7020",
   "metadata": {},
   "outputs": [
    {
     "name": "stderr",
     "output_type": "stream",
     "text": [
      "ibmqfactory.load_account:WARNING:2022-01-10 12:42:29,371: Credentials are already in use. The existing account in the session will be replaced.\n"
     ]
    }
   ],
   "source": [
    "from qiskit import IBMQ\n",
    "provider = IBMQ.load_account()\n",
    "#backend = provider.backend.ibmq_bogota\n",
    "#backend = provider.get_backend('ibmq_bogota')\n",
    "#backend = provider.get_backend('ibmq_lima')\n",
    "#backend = provider.get_backend('ibmq_manila')\n",
    "backend= BasicAer.get_backend('statevector_simulator')"
   ]
  },
  {
   "cell_type": "code",
   "execution_count": 14,
   "id": "66f34f89",
   "metadata": {
    "scrolled": true
   },
   "outputs": [
    {
     "name": "stdout",
     "output_type": "stream",
     "text": [
      "optimal function value: -21.0\n",
      "optimal value: [0. 0. 1.]\n",
      "status: SUCCESS\n"
     ]
    }
   ],
   "source": [
    "algorithm_globals.random_seed = 10598\n",
    "quantum_instance = QuantumInstance(backend,\n",
    "                                   seed_simulator=algorithm_globals.random_seed,\n",
    "                                   seed_transpiler=algorithm_globals.random_seed)\n",
    "qaoa_mes = QAOA(quantum_instance=quantum_instance, initial_point=[0., 0.])\n",
    "qaoa = MinimumEigenOptimizer(qaoa_mes)\n",
    "qaoa_result = qaoa.solve(qubo)\n",
    "print(qaoa_result)"
   ]
  },
  {
   "cell_type": "markdown",
   "id": "f193563f",
   "metadata": {},
   "source": [
    "## Run on Qiskit runtime"
   ]
  },
  {
   "cell_type": "code",
   "execution_count": 28,
   "id": "bdaf4a88",
   "metadata": {},
   "outputs": [
    {
     "ename": "AttributeError",
     "evalue": "'PauliSumOp' object has no attribute 'oplist'",
     "output_type": "error",
     "traceback": [
      "\u001b[1;31m---------------------------------------------------------------------------\u001b[0m",
      "\u001b[1;31mAttributeError\u001b[0m                            Traceback (most recent call last)",
      "\u001b[1;32m~\\AppData\\Local\\Temp/ipykernel_20748/2681697291.py\u001b[0m in \u001b[0;36m<module>\u001b[1;34m\u001b[0m\n\u001b[0;32m      1\u001b[0m \u001b[1;32mfrom\u001b[0m \u001b[0mqiskit\u001b[0m\u001b[1;33m.\u001b[0m\u001b[0mopflow\u001b[0m\u001b[1;33m.\u001b[0m\u001b[0mprimitive_ops\u001b[0m \u001b[1;32mimport\u001b[0m \u001b[0mPauliSumOp\u001b[0m\u001b[1;33m\u001b[0m\u001b[1;33m\u001b[0m\u001b[0m\n\u001b[0;32m      2\u001b[0m \u001b[1;32mfrom\u001b[0m \u001b[0mqiskit\u001b[0m\u001b[1;33m.\u001b[0m\u001b[0mquantum_info\u001b[0m \u001b[1;32mimport\u001b[0m \u001b[0mSparsePauliOp\u001b[0m\u001b[1;33m\u001b[0m\u001b[1;33m\u001b[0m\u001b[0m\n\u001b[1;32m----> 3\u001b[1;33m \u001b[0mok\u001b[0m \u001b[1;33m=\u001b[0m \u001b[0mSparsePauliOp\u001b[0m\u001b[1;33m(\u001b[0m\u001b[0mop\u001b[0m\u001b[1;33m.\u001b[0m\u001b[0moplist\u001b[0m\u001b[1;33m)\u001b[0m\u001b[1;33m\u001b[0m\u001b[1;33m\u001b[0m\u001b[0m\n\u001b[0m\u001b[0;32m      4\u001b[0m \u001b[0mnk\u001b[0m \u001b[1;33m=\u001b[0m \u001b[0mPauliSumOp\u001b[0m\u001b[1;33m(\u001b[0m\u001b[0mok\u001b[0m\u001b[1;33m)\u001b[0m\u001b[1;33m\u001b[0m\u001b[1;33m\u001b[0m\u001b[0m\n\u001b[0;32m      5\u001b[0m \u001b[0mop_list\u001b[0m \u001b[1;33m=\u001b[0m \u001b[0mop\u001b[0m\u001b[1;33m.\u001b[0m\u001b[0moplist\u001b[0m\u001b[1;33m\u001b[0m\u001b[1;33m\u001b[0m\u001b[0m\n",
      "\u001b[1;31mAttributeError\u001b[0m: 'PauliSumOp' object has no attribute 'oplist'"
     ]
    }
   ],
   "source": [
    "from qiskit.opflow.primitive_ops import PauliSumOp\n",
    "from qiskit.quantum_info import SparsePauliOp\n",
    "ok = SparsePauliOp(op.oplist)\n",
    "nk = PauliSumOp(ok)\n",
    "op_list = op.oplist\n",
    "def tuplify(op):\n",
    "    return (op.primitive,op.coeff)\n",
    "pauli_list = map(tuplify,op_list)\n",
    "print(list(pauli_list))"
   ]
  },
  {
   "cell_type": "code",
   "execution_count": 94,
   "id": "e7bcbc7b",
   "metadata": {
    "scrolled": true
   },
   "outputs": [
    {
     "name": "stderr",
     "output_type": "stream",
     "text": [
      "ibmqfactory.load_account:WARNING:2022-01-04 15:38:11,611: Credentials are already in use. The existing account in the session will be replaced.\n"
     ]
    },
    {
     "ename": "RequestsApiError",
     "evalue": "'400 Client Error: Bad Request for url: https://runtime-us-east.quantum-computing.ibm.com/jobs. {\"errors\":[{\"code\":\"bad_request\",\"message\":\"models.ProgramRunParams.Params: ReadMapCB: expect { or n, but found [, error found in #10 byte of ...|params\\\\\": [\\\\\"{\\\\\\\\\\\\\"alpha\\\\\\\\|..., bigger context ...|in\\\\\", \\\\\"backend\\\\\": \\\\\"ibmq_qasm_simulator\\\\\", \\\\\"params\\\\\": [\\\\\"{\\\\\\\\\\\\\"alpha\\\\\\\\\\\\\": null, \\\\\\\\\\\\\"aux_operators\\\\\\\\\\\\\": null, \\\\\\\\\\\\\"init|...\",\"more_info\":\"https://cloud.ibm.com/apidocs/quantum-computing#error-handling\"}],\"trace\":\"c7ab0ed6m4ar19kj27mg\"}'",
     "output_type": "error",
     "traceback": [
      "\u001b[1;31m---------------------------------------------------------------------------\u001b[0m",
      "\u001b[1;31mHTTPError\u001b[0m                                 Traceback (most recent call last)",
      "\u001b[1;32m~\\anaconda3\\envs\\QC\\lib\\site-packages\\qiskit\\providers\\ibmq\\api\\session.py\u001b[0m in \u001b[0;36mrequest\u001b[1;34m(self, method, url, bare, **kwargs)\u001b[0m\n\u001b[0;32m    277\u001b[0m             \u001b[0mresponse\u001b[0m \u001b[1;33m=\u001b[0m \u001b[0msuper\u001b[0m\u001b[1;33m(\u001b[0m\u001b[1;33m)\u001b[0m\u001b[1;33m.\u001b[0m\u001b[0mrequest\u001b[0m\u001b[1;33m(\u001b[0m\u001b[0mmethod\u001b[0m\u001b[1;33m,\u001b[0m \u001b[0mfinal_url\u001b[0m\u001b[1;33m,\u001b[0m \u001b[0mheaders\u001b[0m\u001b[1;33m=\u001b[0m\u001b[0mheaders\u001b[0m\u001b[1;33m,\u001b[0m \u001b[1;33m**\u001b[0m\u001b[0mkwargs\u001b[0m\u001b[1;33m)\u001b[0m\u001b[1;33m\u001b[0m\u001b[1;33m\u001b[0m\u001b[0m\n\u001b[1;32m--> 278\u001b[1;33m             \u001b[0mresponse\u001b[0m\u001b[1;33m.\u001b[0m\u001b[0mraise_for_status\u001b[0m\u001b[1;33m(\u001b[0m\u001b[1;33m)\u001b[0m\u001b[1;33m\u001b[0m\u001b[1;33m\u001b[0m\u001b[0m\n\u001b[0m\u001b[0;32m    279\u001b[0m         \u001b[1;32mexcept\u001b[0m \u001b[0mRequestException\u001b[0m \u001b[1;32mas\u001b[0m \u001b[0mex\u001b[0m\u001b[1;33m:\u001b[0m\u001b[1;33m\u001b[0m\u001b[1;33m\u001b[0m\u001b[0m\n",
      "\u001b[1;32m~\\anaconda3\\envs\\QC\\lib\\site-packages\\requests\\models.py\u001b[0m in \u001b[0;36mraise_for_status\u001b[1;34m(self)\u001b[0m\n\u001b[0;32m    942\u001b[0m         \u001b[1;32mif\u001b[0m \u001b[0mhttp_error_msg\u001b[0m\u001b[1;33m:\u001b[0m\u001b[1;33m\u001b[0m\u001b[1;33m\u001b[0m\u001b[0m\n\u001b[1;32m--> 943\u001b[1;33m             \u001b[1;32mraise\u001b[0m \u001b[0mHTTPError\u001b[0m\u001b[1;33m(\u001b[0m\u001b[0mhttp_error_msg\u001b[0m\u001b[1;33m,\u001b[0m \u001b[0mresponse\u001b[0m\u001b[1;33m=\u001b[0m\u001b[0mself\u001b[0m\u001b[1;33m)\u001b[0m\u001b[1;33m\u001b[0m\u001b[1;33m\u001b[0m\u001b[0m\n\u001b[0m\u001b[0;32m    944\u001b[0m \u001b[1;33m\u001b[0m\u001b[0m\n",
      "\u001b[1;31mHTTPError\u001b[0m: 400 Client Error: Bad Request for url: https://runtime-us-east.quantum-computing.ibm.com/jobs",
      "\nThe above exception was the direct cause of the following exception:\n",
      "\u001b[1;31mRequestsApiError\u001b[0m                          Traceback (most recent call last)",
      "\u001b[1;32m<ipython-input-94-086106c49167>\u001b[0m in \u001b[0;36m<module>\u001b[1;34m\u001b[0m\n\u001b[0;32m    106\u001b[0m         \u001b[0mprogram_id\u001b[0m\u001b[1;33m=\u001b[0m\u001b[1;34m'qaoa'\u001b[0m\u001b[1;33m,\u001b[0m\u001b[1;33m\u001b[0m\u001b[1;33m\u001b[0m\u001b[0m\n\u001b[0;32m    107\u001b[0m         \u001b[0moptions\u001b[0m\u001b[1;33m=\u001b[0m\u001b[0moptions\u001b[0m\u001b[1;33m,\u001b[0m\u001b[1;33m\u001b[0m\u001b[1;33m\u001b[0m\u001b[0m\n\u001b[1;32m--> 108\u001b[1;33m         \u001b[0minputs\u001b[0m\u001b[1;33m=\u001b[0m\u001b[0mruntime_inputs\u001b[0m\u001b[1;33m\u001b[0m\u001b[1;33m\u001b[0m\u001b[0m\n\u001b[0m\u001b[0;32m    109\u001b[0m )\n\u001b[0;32m    110\u001b[0m \u001b[1;33m\u001b[0m\u001b[0m\n",
      "\u001b[1;32m~\\anaconda3\\envs\\QC\\lib\\site-packages\\qiskit\\providers\\ibmq\\runtime\\ibm_runtime_service.py\u001b[0m in \u001b[0;36mrun\u001b[1;34m(self, program_id, options, inputs, callback, result_decoder)\u001b[0m\n\u001b[0;32m    238\u001b[0m                                                 \u001b[0mcredentials\u001b[0m\u001b[1;33m=\u001b[0m\u001b[0mself\u001b[0m\u001b[1;33m.\u001b[0m\u001b[0m_provider\u001b[0m\u001b[1;33m.\u001b[0m\u001b[0mcredentials\u001b[0m\u001b[1;33m,\u001b[0m\u001b[1;33m\u001b[0m\u001b[1;33m\u001b[0m\u001b[0m\n\u001b[0;32m    239\u001b[0m                                                 \u001b[0mbackend_name\u001b[0m\u001b[1;33m=\u001b[0m\u001b[0mbackend_name\u001b[0m\u001b[1;33m,\u001b[0m\u001b[1;33m\u001b[0m\u001b[1;33m\u001b[0m\u001b[0m\n\u001b[1;32m--> 240\u001b[1;33m                                                 params=params_str)\n\u001b[0m\u001b[0;32m    241\u001b[0m \u001b[1;33m\u001b[0m\u001b[0m\n\u001b[0;32m    242\u001b[0m         \u001b[0mbackend\u001b[0m \u001b[1;33m=\u001b[0m \u001b[0mself\u001b[0m\u001b[1;33m.\u001b[0m\u001b[0m_provider\u001b[0m\u001b[1;33m.\u001b[0m\u001b[0mget_backend\u001b[0m\u001b[1;33m(\u001b[0m\u001b[0mbackend_name\u001b[0m\u001b[1;33m)\u001b[0m\u001b[1;33m\u001b[0m\u001b[1;33m\u001b[0m\u001b[0m\n",
      "\u001b[1;32m~\\anaconda3\\envs\\QC\\lib\\site-packages\\qiskit\\providers\\ibmq\\api\\clients\\runtime.py\u001b[0m in \u001b[0;36mprogram_run\u001b[1;34m(self, program_id, credentials, backend_name, params)\u001b[0m\n\u001b[0;32m    141\u001b[0m         return self.api.program_run(program_id=program_id, hub=credentials.hub,\n\u001b[0;32m    142\u001b[0m                                     \u001b[0mgroup\u001b[0m\u001b[1;33m=\u001b[0m\u001b[0mcredentials\u001b[0m\u001b[1;33m.\u001b[0m\u001b[0mgroup\u001b[0m\u001b[1;33m,\u001b[0m \u001b[0mproject\u001b[0m\u001b[1;33m=\u001b[0m\u001b[0mcredentials\u001b[0m\u001b[1;33m.\u001b[0m\u001b[0mproject\u001b[0m\u001b[1;33m,\u001b[0m\u001b[1;33m\u001b[0m\u001b[1;33m\u001b[0m\u001b[0m\n\u001b[1;32m--> 143\u001b[1;33m                                     backend_name=backend_name, params=params)\n\u001b[0m\u001b[0;32m    144\u001b[0m \u001b[1;33m\u001b[0m\u001b[0m\n\u001b[0;32m    145\u001b[0m     \u001b[1;32mdef\u001b[0m \u001b[0mprogram_delete\u001b[0m\u001b[1;33m(\u001b[0m\u001b[0mself\u001b[0m\u001b[1;33m,\u001b[0m \u001b[0mprogram_id\u001b[0m\u001b[1;33m:\u001b[0m \u001b[0mstr\u001b[0m\u001b[1;33m)\u001b[0m \u001b[1;33m->\u001b[0m \u001b[1;32mNone\u001b[0m\u001b[1;33m:\u001b[0m\u001b[1;33m\u001b[0m\u001b[1;33m\u001b[0m\u001b[0m\n",
      "\u001b[1;32m~\\anaconda3\\envs\\QC\\lib\\site-packages\\qiskit\\providers\\ibmq\\api\\rest\\runtime.py\u001b[0m in \u001b[0;36mprogram_run\u001b[1;34m(self, program_id, hub, group, project, backend_name, params)\u001b[0m\n\u001b[0;32m    149\u001b[0m         }\n\u001b[0;32m    150\u001b[0m         \u001b[0mdata\u001b[0m \u001b[1;33m=\u001b[0m \u001b[0mjson\u001b[0m\u001b[1;33m.\u001b[0m\u001b[0mdumps\u001b[0m\u001b[1;33m(\u001b[0m\u001b[0mpayload\u001b[0m\u001b[1;33m)\u001b[0m\u001b[1;33m\u001b[0m\u001b[1;33m\u001b[0m\u001b[0m\n\u001b[1;32m--> 151\u001b[1;33m         \u001b[1;32mreturn\u001b[0m \u001b[0mself\u001b[0m\u001b[1;33m.\u001b[0m\u001b[0msession\u001b[0m\u001b[1;33m.\u001b[0m\u001b[0mpost\u001b[0m\u001b[1;33m(\u001b[0m\u001b[0murl\u001b[0m\u001b[1;33m,\u001b[0m \u001b[0mdata\u001b[0m\u001b[1;33m=\u001b[0m\u001b[0mdata\u001b[0m\u001b[1;33m)\u001b[0m\u001b[1;33m.\u001b[0m\u001b[0mjson\u001b[0m\u001b[1;33m(\u001b[0m\u001b[1;33m)\u001b[0m\u001b[1;33m\u001b[0m\u001b[1;33m\u001b[0m\u001b[0m\n\u001b[0m\u001b[0;32m    152\u001b[0m \u001b[1;33m\u001b[0m\u001b[0m\n\u001b[0;32m    153\u001b[0m     \u001b[1;32mdef\u001b[0m \u001b[0mjobs_get\u001b[0m\u001b[1;33m(\u001b[0m\u001b[0mself\u001b[0m\u001b[1;33m,\u001b[0m \u001b[0mlimit\u001b[0m\u001b[1;33m:\u001b[0m \u001b[0mint\u001b[0m \u001b[1;33m=\u001b[0m \u001b[1;32mNone\u001b[0m\u001b[1;33m,\u001b[0m \u001b[0mskip\u001b[0m\u001b[1;33m:\u001b[0m \u001b[0mint\u001b[0m \u001b[1;33m=\u001b[0m \u001b[1;32mNone\u001b[0m\u001b[1;33m,\u001b[0m \u001b[0mpending\u001b[0m\u001b[1;33m:\u001b[0m \u001b[0mbool\u001b[0m \u001b[1;33m=\u001b[0m \u001b[1;32mNone\u001b[0m\u001b[1;33m)\u001b[0m \u001b[1;33m->\u001b[0m \u001b[0mDict\u001b[0m\u001b[1;33m:\u001b[0m\u001b[1;33m\u001b[0m\u001b[1;33m\u001b[0m\u001b[0m\n",
      "\u001b[1;32m~\\anaconda3\\envs\\QC\\lib\\site-packages\\requests\\sessions.py\u001b[0m in \u001b[0;36mpost\u001b[1;34m(self, url, data, json, **kwargs)\u001b[0m\n\u001b[0;32m    588\u001b[0m         \"\"\"\n\u001b[0;32m    589\u001b[0m \u001b[1;33m\u001b[0m\u001b[0m\n\u001b[1;32m--> 590\u001b[1;33m         \u001b[1;32mreturn\u001b[0m \u001b[0mself\u001b[0m\u001b[1;33m.\u001b[0m\u001b[0mrequest\u001b[0m\u001b[1;33m(\u001b[0m\u001b[1;34m'POST'\u001b[0m\u001b[1;33m,\u001b[0m \u001b[0murl\u001b[0m\u001b[1;33m,\u001b[0m \u001b[0mdata\u001b[0m\u001b[1;33m=\u001b[0m\u001b[0mdata\u001b[0m\u001b[1;33m,\u001b[0m \u001b[0mjson\u001b[0m\u001b[1;33m=\u001b[0m\u001b[0mjson\u001b[0m\u001b[1;33m,\u001b[0m \u001b[1;33m**\u001b[0m\u001b[0mkwargs\u001b[0m\u001b[1;33m)\u001b[0m\u001b[1;33m\u001b[0m\u001b[1;33m\u001b[0m\u001b[0m\n\u001b[0m\u001b[0;32m    591\u001b[0m \u001b[1;33m\u001b[0m\u001b[0m\n\u001b[0;32m    592\u001b[0m     \u001b[1;32mdef\u001b[0m \u001b[0mput\u001b[0m\u001b[1;33m(\u001b[0m\u001b[0mself\u001b[0m\u001b[1;33m,\u001b[0m \u001b[0murl\u001b[0m\u001b[1;33m,\u001b[0m \u001b[0mdata\u001b[0m\u001b[1;33m=\u001b[0m\u001b[1;32mNone\u001b[0m\u001b[1;33m,\u001b[0m \u001b[1;33m**\u001b[0m\u001b[0mkwargs\u001b[0m\u001b[1;33m)\u001b[0m\u001b[1;33m:\u001b[0m\u001b[1;33m\u001b[0m\u001b[1;33m\u001b[0m\u001b[0m\n",
      "\u001b[1;32m~\\anaconda3\\envs\\QC\\lib\\site-packages\\qiskit\\providers\\ibmq\\api\\session.py\u001b[0m in \u001b[0;36mrequest\u001b[1;34m(self, method, url, bare, **kwargs)\u001b[0m\n\u001b[0;32m    298\u001b[0m                 \u001b[0mself\u001b[0m\u001b[1;33m.\u001b[0m\u001b[0m_modify_chained_exception_messages\u001b[0m\u001b[1;33m(\u001b[0m\u001b[0mex\u001b[0m\u001b[1;33m)\u001b[0m\u001b[1;33m\u001b[0m\u001b[1;33m\u001b[0m\u001b[0m\n\u001b[0;32m    299\u001b[0m \u001b[1;33m\u001b[0m\u001b[0m\n\u001b[1;32m--> 300\u001b[1;33m             \u001b[1;32mraise\u001b[0m \u001b[0mRequestsApiError\u001b[0m\u001b[1;33m(\u001b[0m\u001b[0mmessage\u001b[0m\u001b[1;33m,\u001b[0m \u001b[0mstatus_code\u001b[0m\u001b[1;33m)\u001b[0m \u001b[1;32mfrom\u001b[0m \u001b[0mex\u001b[0m\u001b[1;33m\u001b[0m\u001b[1;33m\u001b[0m\u001b[0m\n\u001b[0m\u001b[0;32m    301\u001b[0m \u001b[1;33m\u001b[0m\u001b[0m\n\u001b[0;32m    302\u001b[0m         \u001b[1;32mreturn\u001b[0m \u001b[0mresponse\u001b[0m\u001b[1;33m\u001b[0m\u001b[1;33m\u001b[0m\u001b[0m\n",
      "\u001b[1;31mRequestsApiError\u001b[0m: '400 Client Error: Bad Request for url: https://runtime-us-east.quantum-computing.ibm.com/jobs. {\"errors\":[{\"code\":\"bad_request\",\"message\":\"models.ProgramRunParams.Params: ReadMapCB: expect { or n, but found [, error found in #10 byte of ...|params\\\\\": [\\\\\"{\\\\\\\\\\\\\"alpha\\\\\\\\|..., bigger context ...|in\\\\\", \\\\\"backend\\\\\": \\\\\"ibmq_qasm_simulator\\\\\", \\\\\"params\\\\\": [\\\\\"{\\\\\\\\\\\\\"alpha\\\\\\\\\\\\\": null, \\\\\\\\\\\\\"aux_operators\\\\\\\\\\\\\": null, \\\\\\\\\\\\\"init|...\",\"more_info\":\"https://cloud.ibm.com/apidocs/quantum-computing#error-handling\"}],\"trace\":\"c7ab0ed6m4ar19kj27mg\"}'"
     ]
    }
   ],
   "source": [
    "from qiskit import IBMQ\n",
    "\n",
    "options = {\n",
    "\t'backend_name': 'ibmq_qasm_simulator'\n",
    "}\n",
    "\n",
    "runtime_inputs = {\n",
    "\t# The fraction of top measurement\n",
    "  # samples to be used for\n",
    "  # the expectation value (CVaR expectation).\n",
    "  # Defaults to 1, i.e. using\n",
    "  # all samples to construct the\n",
    "  # expectation value.\n",
    "  'alpha': None, # number\n",
    "\t\n",
    "\t# A list of operators to\n",
    "  # be evaluated at the final,\n",
    "  # optimized state. This must be\n",
    "  # a List[PauliSumOp].\n",
    "  'aux_operators': None, # array\n",
    "\t\n",
    "\t# Initial parameters of the ansatz.\n",
    "  # Can be an array or\n",
    "  # the string ``'random'`` to choose\n",
    "  # random initial parameters. The type\n",
    "  # must be numpy.ndarray or str.\n",
    "  'initial_point': None, # [array,string]\n",
    "\t\n",
    "\t# Whether to apply measurement error\n",
    "  # mitigation in form of a\n",
    "  # tensored measurement fitter to the\n",
    "  # measurements. Defaults to False.\n",
    "  'measurement_error_mitigation': None, # boolean\n",
    "\t\n",
    "\t# The cost Hamiltonian, consisting of\n",
    "  # Pauli I and Z operators,\n",
    "  # whose smallest eigenvalue we're trying\n",
    "  # to find. The type must\n",
    "  # be a PauliSumOp.\n",
    "  'operator': ok, # object (required)\n",
    "\t\n",
    "\t# The optimization level to run\n",
    "  # if the swap strategies are\n",
    "  # not used. This value is\n",
    "  # 1 by default. This is\n",
    "  # an integer.\n",
    "  'optimization_level': None, # integer\n",
    "\t\n",
    "\t# The classical optimizer used to\n",
    "  # update the parameters in each\n",
    "  # iteration. Per default, SPSA with\n",
    "  # automatic calibration of the learning\n",
    "  # rate is used. The type\n",
    "  # must be a qiskit.algorithms.optimizers.Optimizer.\n",
    "  'optimizer': None, # object\n",
    "\t\n",
    "\t# The number of QAOA repetitions,\n",
    "  # i.e. the QAOA depth typically\n",
    "  # labeled p. This value defaults\n",
    "  # to 1. This is an\n",
    "  # integer.\n",
    "  'reps': None, # integer\n",
    "\t\n",
    "\t# The integer number of shots\n",
    "  # used for each circuit evaluation.\n",
    "  # Defaults to 1024.\n",
    "  'shots': None, # integer\n",
    "\t\n",
    "\t# A boolean flag that, if\n",
    "  # set to True (the default\n",
    "  # is False), runs a heuristic\n",
    "  # algorithm to permute the Paulis\n",
    "  # in the cost operator to\n",
    "  # better fit the coupling map\n",
    "  # and the swap strategy. This\n",
    "  # is only needed when the\n",
    "  # optimization problem is sparse and\n",
    "  # when using swap strategies to\n",
    "  # transpile.\n",
    "  'use_initial_mapping': None, # boolean\n",
    "\t\n",
    "\t# A boolean on whether or\n",
    "  # not to use a pulse-efficient\n",
    "  # transpilation. This flag is set\n",
    "  # to False by default.\n",
    "  'use_pulse_efficient': None, # boolean\n",
    "\t\n",
    "\t# A boolean on whether or\n",
    "  # not to use swap strategies\n",
    "  # when transpiling. This flag is\n",
    "  # set to True by default.\n",
    "  # If this is False then\n",
    "  # the standard transpiler with the\n",
    "  # given optimization level will run.\n",
    "  'use_swap_strategies': None # boolean\n",
    "}\n",
    "\n",
    "IBMQ.load_account()\n",
    "provider = IBMQ.get_provider(\n",
    "\thub='ibm-q',\n",
    "\tgroup='open',\n",
    "\tproject='main'\n",
    ")\n",
    "\n",
    "job = provider.runtime.run(\n",
    "\tprogram_id='qaoa',\n",
    "\toptions=options,\n",
    "\tinputs=runtime_inputs\n",
    ")\n",
    "\n",
    "# Job id\n",
    "print(job.job_id())\n",
    "# See job status\n",
    "print(job.status())\n",
    "\n",
    "# Get results\n",
    "result = job.result()"
   ]
  },
  {
   "cell_type": "code",
   "execution_count": 95,
   "id": "a66b52ab",
   "metadata": {},
   "outputs": [],
   "source": [
    "from qiskit.circuit.library import EfficientSU2\n",
    "\n",
    "ansatz = EfficientSU2(num_qubits=4, reps=1, entanglement=\"linear\", insert_barriers=True)\n",
    "ansatz.decompose().draw(\"mpl\", style=\"iqx\")\n",
    "from qiskit.algorithms.optimizers import SPSA\n",
    "\n",
    "optimizer = SPSA(maxiter=100)\n",
    "\n",
    "np.random.seed(5)  # fix seed for reproducibility\n",
    "initial_point = np.random.random(ansatz.num_parameters)"
   ]
  },
  {
   "cell_type": "code",
   "execution_count": 97,
   "id": "6d676265",
   "metadata": {},
   "outputs": [
    {
     "name": "stderr",
     "output_type": "stream",
     "text": [
      "ibmqfactory.load_account:WARNING:2022-01-04 15:48:35,695: Credentials are already in use. The existing account in the session will be replaced.\n"
     ]
    },
    {
     "ename": "RequestsApiError",
     "evalue": "'400 Client Error: Bad Request for url: https://runtime-us-east.quantum-computing.ibm.com/jobs. {\"errors\":[{\"code\":\"bad_request\",\"message\":\"models.ProgramRunParams.Params: ReadMapCB: expect { or n, but found [, error found in #10 byte of ...|params\\\\\": [\\\\\"{\\\\\\\\\\\\\"ansatz|..., bigger context ...|in\\\\\", \\\\\"backend\\\\\": \\\\\"ibmq_qasm_simulator\\\\\", \\\\\"params\\\\\": [\\\\\"{\\\\\\\\\\\\\"ansatz\\\\\\\\\\\\\": {\\\\\\\\\\\\\"__type__\\\\\\\\\\\\\": \\\\\\\\\\\\\"QuantumCircuit\\\\\\\\\\\\\", \\\\\\\\|...\",\"more_info\":\"https://cloud.ibm.com/apidocs/quantum-computing#error-handling\"}],\"trace\":\"c7ab5a56m4ar19kj31fg\"}'",
     "output_type": "error",
     "traceback": [
      "\u001b[1;31m---------------------------------------------------------------------------\u001b[0m",
      "\u001b[1;31mHTTPError\u001b[0m                                 Traceback (most recent call last)",
      "\u001b[1;32m~\\anaconda3\\envs\\QC\\lib\\site-packages\\qiskit\\providers\\ibmq\\api\\session.py\u001b[0m in \u001b[0;36mrequest\u001b[1;34m(self, method, url, bare, **kwargs)\u001b[0m\n\u001b[0;32m    277\u001b[0m             \u001b[0mresponse\u001b[0m \u001b[1;33m=\u001b[0m \u001b[0msuper\u001b[0m\u001b[1;33m(\u001b[0m\u001b[1;33m)\u001b[0m\u001b[1;33m.\u001b[0m\u001b[0mrequest\u001b[0m\u001b[1;33m(\u001b[0m\u001b[0mmethod\u001b[0m\u001b[1;33m,\u001b[0m \u001b[0mfinal_url\u001b[0m\u001b[1;33m,\u001b[0m \u001b[0mheaders\u001b[0m\u001b[1;33m=\u001b[0m\u001b[0mheaders\u001b[0m\u001b[1;33m,\u001b[0m \u001b[1;33m**\u001b[0m\u001b[0mkwargs\u001b[0m\u001b[1;33m)\u001b[0m\u001b[1;33m\u001b[0m\u001b[1;33m\u001b[0m\u001b[0m\n\u001b[1;32m--> 278\u001b[1;33m             \u001b[0mresponse\u001b[0m\u001b[1;33m.\u001b[0m\u001b[0mraise_for_status\u001b[0m\u001b[1;33m(\u001b[0m\u001b[1;33m)\u001b[0m\u001b[1;33m\u001b[0m\u001b[1;33m\u001b[0m\u001b[0m\n\u001b[0m\u001b[0;32m    279\u001b[0m         \u001b[1;32mexcept\u001b[0m \u001b[0mRequestException\u001b[0m \u001b[1;32mas\u001b[0m \u001b[0mex\u001b[0m\u001b[1;33m:\u001b[0m\u001b[1;33m\u001b[0m\u001b[1;33m\u001b[0m\u001b[0m\n",
      "\u001b[1;32m~\\anaconda3\\envs\\QC\\lib\\site-packages\\requests\\models.py\u001b[0m in \u001b[0;36mraise_for_status\u001b[1;34m(self)\u001b[0m\n\u001b[0;32m    942\u001b[0m         \u001b[1;32mif\u001b[0m \u001b[0mhttp_error_msg\u001b[0m\u001b[1;33m:\u001b[0m\u001b[1;33m\u001b[0m\u001b[1;33m\u001b[0m\u001b[0m\n\u001b[1;32m--> 943\u001b[1;33m             \u001b[1;32mraise\u001b[0m \u001b[0mHTTPError\u001b[0m\u001b[1;33m(\u001b[0m\u001b[0mhttp_error_msg\u001b[0m\u001b[1;33m,\u001b[0m \u001b[0mresponse\u001b[0m\u001b[1;33m=\u001b[0m\u001b[0mself\u001b[0m\u001b[1;33m)\u001b[0m\u001b[1;33m\u001b[0m\u001b[1;33m\u001b[0m\u001b[0m\n\u001b[0m\u001b[0;32m    944\u001b[0m \u001b[1;33m\u001b[0m\u001b[0m\n",
      "\u001b[1;31mHTTPError\u001b[0m: 400 Client Error: Bad Request for url: https://runtime-us-east.quantum-computing.ibm.com/jobs",
      "\nThe above exception was the direct cause of the following exception:\n",
      "\u001b[1;31mRequestsApiError\u001b[0m                          Traceback (most recent call last)",
      "\u001b[1;32m<ipython-input-97-efc528f38e4e>\u001b[0m in \u001b[0;36m<module>\u001b[1;34m\u001b[0m\n\u001b[0;32m     70\u001b[0m         \u001b[0mprogram_id\u001b[0m\u001b[1;33m=\u001b[0m\u001b[1;34m'vqe'\u001b[0m\u001b[1;33m,\u001b[0m\u001b[1;33m\u001b[0m\u001b[1;33m\u001b[0m\u001b[0m\n\u001b[0;32m     71\u001b[0m         \u001b[0moptions\u001b[0m\u001b[1;33m=\u001b[0m\u001b[0moptions\u001b[0m\u001b[1;33m,\u001b[0m\u001b[1;33m\u001b[0m\u001b[1;33m\u001b[0m\u001b[0m\n\u001b[1;32m---> 72\u001b[1;33m         \u001b[0minputs\u001b[0m\u001b[1;33m=\u001b[0m\u001b[0mruntime_inputs\u001b[0m\u001b[1;33m\u001b[0m\u001b[1;33m\u001b[0m\u001b[0m\n\u001b[0m\u001b[0;32m     73\u001b[0m )\n",
      "\u001b[1;32m~\\anaconda3\\envs\\QC\\lib\\site-packages\\qiskit\\providers\\ibmq\\runtime\\ibm_runtime_service.py\u001b[0m in \u001b[0;36mrun\u001b[1;34m(self, program_id, options, inputs, callback, result_decoder)\u001b[0m\n\u001b[0;32m    238\u001b[0m                                                 \u001b[0mcredentials\u001b[0m\u001b[1;33m=\u001b[0m\u001b[0mself\u001b[0m\u001b[1;33m.\u001b[0m\u001b[0m_provider\u001b[0m\u001b[1;33m.\u001b[0m\u001b[0mcredentials\u001b[0m\u001b[1;33m,\u001b[0m\u001b[1;33m\u001b[0m\u001b[1;33m\u001b[0m\u001b[0m\n\u001b[0;32m    239\u001b[0m                                                 \u001b[0mbackend_name\u001b[0m\u001b[1;33m=\u001b[0m\u001b[0mbackend_name\u001b[0m\u001b[1;33m,\u001b[0m\u001b[1;33m\u001b[0m\u001b[1;33m\u001b[0m\u001b[0m\n\u001b[1;32m--> 240\u001b[1;33m                                                 params=params_str)\n\u001b[0m\u001b[0;32m    241\u001b[0m \u001b[1;33m\u001b[0m\u001b[0m\n\u001b[0;32m    242\u001b[0m         \u001b[0mbackend\u001b[0m \u001b[1;33m=\u001b[0m \u001b[0mself\u001b[0m\u001b[1;33m.\u001b[0m\u001b[0m_provider\u001b[0m\u001b[1;33m.\u001b[0m\u001b[0mget_backend\u001b[0m\u001b[1;33m(\u001b[0m\u001b[0mbackend_name\u001b[0m\u001b[1;33m)\u001b[0m\u001b[1;33m\u001b[0m\u001b[1;33m\u001b[0m\u001b[0m\n",
      "\u001b[1;32m~\\anaconda3\\envs\\QC\\lib\\site-packages\\qiskit\\providers\\ibmq\\api\\clients\\runtime.py\u001b[0m in \u001b[0;36mprogram_run\u001b[1;34m(self, program_id, credentials, backend_name, params)\u001b[0m\n\u001b[0;32m    141\u001b[0m         return self.api.program_run(program_id=program_id, hub=credentials.hub,\n\u001b[0;32m    142\u001b[0m                                     \u001b[0mgroup\u001b[0m\u001b[1;33m=\u001b[0m\u001b[0mcredentials\u001b[0m\u001b[1;33m.\u001b[0m\u001b[0mgroup\u001b[0m\u001b[1;33m,\u001b[0m \u001b[0mproject\u001b[0m\u001b[1;33m=\u001b[0m\u001b[0mcredentials\u001b[0m\u001b[1;33m.\u001b[0m\u001b[0mproject\u001b[0m\u001b[1;33m,\u001b[0m\u001b[1;33m\u001b[0m\u001b[1;33m\u001b[0m\u001b[0m\n\u001b[1;32m--> 143\u001b[1;33m                                     backend_name=backend_name, params=params)\n\u001b[0m\u001b[0;32m    144\u001b[0m \u001b[1;33m\u001b[0m\u001b[0m\n\u001b[0;32m    145\u001b[0m     \u001b[1;32mdef\u001b[0m \u001b[0mprogram_delete\u001b[0m\u001b[1;33m(\u001b[0m\u001b[0mself\u001b[0m\u001b[1;33m,\u001b[0m \u001b[0mprogram_id\u001b[0m\u001b[1;33m:\u001b[0m \u001b[0mstr\u001b[0m\u001b[1;33m)\u001b[0m \u001b[1;33m->\u001b[0m \u001b[1;32mNone\u001b[0m\u001b[1;33m:\u001b[0m\u001b[1;33m\u001b[0m\u001b[1;33m\u001b[0m\u001b[0m\n",
      "\u001b[1;32m~\\anaconda3\\envs\\QC\\lib\\site-packages\\qiskit\\providers\\ibmq\\api\\rest\\runtime.py\u001b[0m in \u001b[0;36mprogram_run\u001b[1;34m(self, program_id, hub, group, project, backend_name, params)\u001b[0m\n\u001b[0;32m    149\u001b[0m         }\n\u001b[0;32m    150\u001b[0m         \u001b[0mdata\u001b[0m \u001b[1;33m=\u001b[0m \u001b[0mjson\u001b[0m\u001b[1;33m.\u001b[0m\u001b[0mdumps\u001b[0m\u001b[1;33m(\u001b[0m\u001b[0mpayload\u001b[0m\u001b[1;33m)\u001b[0m\u001b[1;33m\u001b[0m\u001b[1;33m\u001b[0m\u001b[0m\n\u001b[1;32m--> 151\u001b[1;33m         \u001b[1;32mreturn\u001b[0m \u001b[0mself\u001b[0m\u001b[1;33m.\u001b[0m\u001b[0msession\u001b[0m\u001b[1;33m.\u001b[0m\u001b[0mpost\u001b[0m\u001b[1;33m(\u001b[0m\u001b[0murl\u001b[0m\u001b[1;33m,\u001b[0m \u001b[0mdata\u001b[0m\u001b[1;33m=\u001b[0m\u001b[0mdata\u001b[0m\u001b[1;33m)\u001b[0m\u001b[1;33m.\u001b[0m\u001b[0mjson\u001b[0m\u001b[1;33m(\u001b[0m\u001b[1;33m)\u001b[0m\u001b[1;33m\u001b[0m\u001b[1;33m\u001b[0m\u001b[0m\n\u001b[0m\u001b[0;32m    152\u001b[0m \u001b[1;33m\u001b[0m\u001b[0m\n\u001b[0;32m    153\u001b[0m     \u001b[1;32mdef\u001b[0m \u001b[0mjobs_get\u001b[0m\u001b[1;33m(\u001b[0m\u001b[0mself\u001b[0m\u001b[1;33m,\u001b[0m \u001b[0mlimit\u001b[0m\u001b[1;33m:\u001b[0m \u001b[0mint\u001b[0m \u001b[1;33m=\u001b[0m \u001b[1;32mNone\u001b[0m\u001b[1;33m,\u001b[0m \u001b[0mskip\u001b[0m\u001b[1;33m:\u001b[0m \u001b[0mint\u001b[0m \u001b[1;33m=\u001b[0m \u001b[1;32mNone\u001b[0m\u001b[1;33m,\u001b[0m \u001b[0mpending\u001b[0m\u001b[1;33m:\u001b[0m \u001b[0mbool\u001b[0m \u001b[1;33m=\u001b[0m \u001b[1;32mNone\u001b[0m\u001b[1;33m)\u001b[0m \u001b[1;33m->\u001b[0m \u001b[0mDict\u001b[0m\u001b[1;33m:\u001b[0m\u001b[1;33m\u001b[0m\u001b[1;33m\u001b[0m\u001b[0m\n",
      "\u001b[1;32m~\\anaconda3\\envs\\QC\\lib\\site-packages\\requests\\sessions.py\u001b[0m in \u001b[0;36mpost\u001b[1;34m(self, url, data, json, **kwargs)\u001b[0m\n\u001b[0;32m    588\u001b[0m         \"\"\"\n\u001b[0;32m    589\u001b[0m \u001b[1;33m\u001b[0m\u001b[0m\n\u001b[1;32m--> 590\u001b[1;33m         \u001b[1;32mreturn\u001b[0m \u001b[0mself\u001b[0m\u001b[1;33m.\u001b[0m\u001b[0mrequest\u001b[0m\u001b[1;33m(\u001b[0m\u001b[1;34m'POST'\u001b[0m\u001b[1;33m,\u001b[0m \u001b[0murl\u001b[0m\u001b[1;33m,\u001b[0m \u001b[0mdata\u001b[0m\u001b[1;33m=\u001b[0m\u001b[0mdata\u001b[0m\u001b[1;33m,\u001b[0m \u001b[0mjson\u001b[0m\u001b[1;33m=\u001b[0m\u001b[0mjson\u001b[0m\u001b[1;33m,\u001b[0m \u001b[1;33m**\u001b[0m\u001b[0mkwargs\u001b[0m\u001b[1;33m)\u001b[0m\u001b[1;33m\u001b[0m\u001b[1;33m\u001b[0m\u001b[0m\n\u001b[0m\u001b[0;32m    591\u001b[0m \u001b[1;33m\u001b[0m\u001b[0m\n\u001b[0;32m    592\u001b[0m     \u001b[1;32mdef\u001b[0m \u001b[0mput\u001b[0m\u001b[1;33m(\u001b[0m\u001b[0mself\u001b[0m\u001b[1;33m,\u001b[0m \u001b[0murl\u001b[0m\u001b[1;33m,\u001b[0m \u001b[0mdata\u001b[0m\u001b[1;33m=\u001b[0m\u001b[1;32mNone\u001b[0m\u001b[1;33m,\u001b[0m \u001b[1;33m**\u001b[0m\u001b[0mkwargs\u001b[0m\u001b[1;33m)\u001b[0m\u001b[1;33m:\u001b[0m\u001b[1;33m\u001b[0m\u001b[1;33m\u001b[0m\u001b[0m\n",
      "\u001b[1;32m~\\anaconda3\\envs\\QC\\lib\\site-packages\\qiskit\\providers\\ibmq\\api\\session.py\u001b[0m in \u001b[0;36mrequest\u001b[1;34m(self, method, url, bare, **kwargs)\u001b[0m\n\u001b[0;32m    298\u001b[0m                 \u001b[0mself\u001b[0m\u001b[1;33m.\u001b[0m\u001b[0m_modify_chained_exception_messages\u001b[0m\u001b[1;33m(\u001b[0m\u001b[0mex\u001b[0m\u001b[1;33m)\u001b[0m\u001b[1;33m\u001b[0m\u001b[1;33m\u001b[0m\u001b[0m\n\u001b[0;32m    299\u001b[0m \u001b[1;33m\u001b[0m\u001b[0m\n\u001b[1;32m--> 300\u001b[1;33m             \u001b[1;32mraise\u001b[0m \u001b[0mRequestsApiError\u001b[0m\u001b[1;33m(\u001b[0m\u001b[0mmessage\u001b[0m\u001b[1;33m,\u001b[0m \u001b[0mstatus_code\u001b[0m\u001b[1;33m)\u001b[0m \u001b[1;32mfrom\u001b[0m \u001b[0mex\u001b[0m\u001b[1;33m\u001b[0m\u001b[1;33m\u001b[0m\u001b[0m\n\u001b[0m\u001b[0;32m    301\u001b[0m \u001b[1;33m\u001b[0m\u001b[0m\n\u001b[0;32m    302\u001b[0m         \u001b[1;32mreturn\u001b[0m \u001b[0mresponse\u001b[0m\u001b[1;33m\u001b[0m\u001b[1;33m\u001b[0m\u001b[0m\n",
      "\u001b[1;31mRequestsApiError\u001b[0m: '400 Client Error: Bad Request for url: https://runtime-us-east.quantum-computing.ibm.com/jobs. {\"errors\":[{\"code\":\"bad_request\",\"message\":\"models.ProgramRunParams.Params: ReadMapCB: expect { or n, but found [, error found in #10 byte of ...|params\\\\\": [\\\\\"{\\\\\\\\\\\\\"ansatz|..., bigger context ...|in\\\\\", \\\\\"backend\\\\\": \\\\\"ibmq_qasm_simulator\\\\\", \\\\\"params\\\\\": [\\\\\"{\\\\\\\\\\\\\"ansatz\\\\\\\\\\\\\": {\\\\\\\\\\\\\"__type__\\\\\\\\\\\\\": \\\\\\\\\\\\\"QuantumCircuit\\\\\\\\\\\\\", \\\\\\\\|...\",\"more_info\":\"https://cloud.ibm.com/apidocs/quantum-computing#error-handling\"}],\"trace\":\"c7ab5a56m4ar19kj31fg\"}'"
     ]
    }
   ],
   "source": [
    "from qiskit import IBMQ\n",
    "\n",
    "options = {\n",
    "\t'backend_name': 'ibmq_qasm_simulator'\n",
    "}\n",
    "\n",
    "runtime_inputs = {\n",
    "\t# A parameterized quantum circuit preparing\n",
    "  # the ansatz wavefunction for the\n",
    "  # VQE. It is assumed that\n",
    "  # all qubits are initially in\n",
    "  # the 0 state.\n",
    "  'ansatz': ansatz, # object (required)\n",
    "\t\n",
    "\t# A list of operators to\n",
    "  # be evaluated at the final,\n",
    "  # optimized state. This is a\n",
    "  # list of PauliSumOp.\n",
    "  'aux_operators': None, # array\n",
    "\t\n",
    "\t# Initial position of virtual qubits\n",
    "  # on the physical qubits of\n",
    "  # the quantum device. Default is\n",
    "  # None.\n",
    "  'initial_layout': None, # [null,array,object]\n",
    "\t\n",
    "\t# Initial parameters of the ansatz.\n",
    "  # Can be an array or\n",
    "  # the string ``'random'`` to choose\n",
    "  # random initial parameters.\n",
    "  'initial_parameters': initial_point, # [array,string] (required)\n",
    "\t\n",
    "\t# Whether to apply measurement error\n",
    "  # mitigation in form of a\n",
    "  # complete measurement fitter to the\n",
    "  # measurements. Defaults to False.\n",
    "  'measurement_error_mitigation': None, # boolean\n",
    "\t\n",
    "\t# The Hamiltonian whose smallest eigenvalue\n",
    "  # we're trying to find. Should\n",
    "  # be PauliSumOp\n",
    "  'operator': nk, # object (required)\n",
    "\t\n",
    "\t# The classical optimizer used in\n",
    "  # to update the parameters in\n",
    "  # each iteration. Can be either\n",
    "  # any of Qiskit's Optimizer classes.\n",
    "  # If a dictionary, only SPSA\n",
    "  # and QN-SPSA are supported and\n",
    "  # the dictionary must specify the\n",
    "  # name and options of the\n",
    "  # optimizer, e.g. ``{'name': 'SPSA', 'maxiter':\n",
    "  # 100}``.\n",
    "  'optimizer': optimizer, # object (required)\n",
    "\t\n",
    "\t# The number of shots used\n",
    "  # for each circuit evaluation. Defaults\n",
    "  # to 1024.\n",
    "  'shots': None # integer\n",
    "}\n",
    "\n",
    "IBMQ.load_account()\n",
    "provider = IBMQ.get_provider(\n",
    "\thub='ibm-q',\n",
    "\tgroup='open',\n",
    "\tproject='main'\n",
    ")\n",
    "\n",
    "job = provider.runtime.run(\n",
    "\tprogram_id='vqe',\n",
    "\toptions=options,\n",
    "\tinputs=runtime_inputs\n",
    ")"
   ]
  },
  {
   "cell_type": "code",
   "execution_count": null,
   "id": "c22a9c1a",
   "metadata": {},
   "outputs": [],
   "source": []
  }
 ],
 "metadata": {
  "kernelspec": {
   "display_name": "Python 3 (ipykernel)",
   "language": "python",
   "name": "python3"
  },
  "language_info": {
   "codemirror_mode": {
    "name": "ipython",
    "version": 3
   },
   "file_extension": ".py",
   "mimetype": "text/x-python",
   "name": "python",
   "nbconvert_exporter": "python",
   "pygments_lexer": "ipython3",
   "version": "3.9.7"
  }
 },
 "nbformat": 4,
 "nbformat_minor": 5
}
