{
 "cells": [
  {
   "cell_type": "markdown",
   "id": "1d3bd04d",
   "metadata": {},
   "source": [
    "## References:   \n",
    "\n",
    "### Qiskit runtime and VQE:\n",
    "https://qiskit.org/documentation/nature/tutorials/07_leveraging_qiskit_runtime.html\n",
    "https://github.com/Qiskit-Partners/qiskit-runtime/blob/main/tutorials/vqe.ipynb \n",
    "### QUBO on Qiskit:\n",
    "https://qiskit.org/documentation/tutorials/optimization/3_minimum_eigen_optimizer.html\n",
    "https://qiskit.org/documentation/tutorials/optimization/2_converters_for_quadratic_programs.html\n",
    "https://qiskit.org/documentation/tutorials/optimization/1_quadratic_program.html"
   ]
  },
  {
   "cell_type": "code",
   "execution_count": 1,
   "id": "03fdec13",
   "metadata": {},
   "outputs": [],
   "source": [
    "from qiskit import BasicAer\n",
    "from qiskit.utils import algorithm_globals, QuantumInstance\n",
    "from qiskit.algorithms import QAOA\n",
    "from qiskit_optimization.algorithms import (\n",
    "    MinimumEigenOptimizer,\n",
    "    RecursiveMinimumEigenOptimizer,\n",
    "    SolutionSample,\n",
    "    OptimizationResultStatus,\n",
    ")"
   ]
  },
  {
   "cell_type": "markdown",
   "id": "198195a4",
   "metadata": {},
   "source": [
    "## Construction of ising hamiltonian"
   ]
  },
  {
   "cell_type": "code",
   "execution_count": 3,
   "id": "b1e21844",
   "metadata": {},
   "outputs": [],
   "source": [
    "def potential_pseudoknots(stems_potential):\n",
    "\n",
    "    pseudoknots_potential = {}\n",
    "    pseudoknot_penalty = 0.5\n",
    "\n",
    "    for i in range(len(stems_potential)):\n",
    "        for j in range(i + 1, len(stems_potential)):\n",
    "            \n",
    "            stem1 = stems_potential[i]\n",
    "            stem2 = stems_potential[j]\n",
    "    \n",
    "            i_a = stem1[0]\n",
    "            j_a = stem1[1]\n",
    "            i_b = stem2[0]\n",
    "            j_b = stem2[1]\n",
    "    \n",
    "            penalty = 1\n",
    "    \n",
    "            if (i_a < i_b and i_b < j_a and j_a < j_b) or (i_b < i_a and i_a < j_b and j_b < j_a):\n",
    "        \n",
    "                penalty = pseudoknot_penalty\n",
    "    \n",
    "            pseudoknots_potential[(j,i)] = penalty\n",
    "            \n",
    "    return pseudoknots_potential"
   ]
  },
  {
   "cell_type": "code",
   "execution_count": 4,
   "id": "f43b8136",
   "metadata": {},
   "outputs": [],
   "source": [
    "def potential_overlaps(stems_potential):\n",
    "    \n",
    "    overlaps_potential = {}\n",
    "    overlap_penalty = 1e6\n",
    "\n",
    "    for i in range(len(stems_potential)):\n",
    "        for j in range(i+1, len(stems_potential)):\n",
    "    \n",
    "            stem1 = stems_potential[i]\n",
    "            stem2 = stems_potential[j]\n",
    "    \n",
    "            penalty = 0\n",
    "    \n",
    "            stem1_cspan1 = set(range(stem1[1]-stem1[2]+1, stem1[1]+1))\n",
    "            stem2_cspan1 = set(range(stem2[1]-stem2[2]+1, stem2[1]+1))\n",
    "            \n",
    "            stem1_cspan2 = set(range(stem1[0], stem1[0]+stem1[2]))\n",
    "            stem2_cspan2 = set(range(stem2[0], stem2[0]+stem2[2]))\n",
    "    \n",
    "            if (len(stem1_cspan1 & stem2_cspan1) != 0) or (len(stem1_cspan2 & stem2_cspan2) != 0)  or (len(stem1_cspan1 & stem2_cspan2) != 0) or (len(stem1_cspan2 & stem2_cspan1) != 0):\n",
    "        \n",
    "                penalty = overlap_penalty\n",
    "        \n",
    "            overlaps_potential[(j,i)] = penalty\n",
    "            \n",
    "    return overlaps_potential"
   ]
  },
  {
   "cell_type": "code",
   "execution_count": 5,
   "id": "f864fb14",
   "metadata": {},
   "outputs": [],
   "source": [
    "stems = [(1,14,3),(5,18,3),(9,18,5)] \n",
    "CL = 1\n",
    "CB = 1\n",
    "mu = 3\n",
    "pseudoknot = potential_pseudoknots(stems)\n",
    "overlap = potential_overlaps(stems)\n",
    "linear_terms = []\n",
    "quadratic_terms = {}"
   ]
  },
  {
   "cell_type": "code",
   "execution_count": 6,
   "id": "a48ca569",
   "metadata": {},
   "outputs": [
    {
     "name": "stdout",
     "output_type": "stream",
     "text": [
      "{(1, 0): 0.5, (2, 0): 0.5, (2, 1): 1}\n",
      "{(1, 0): 0, (2, 0): 1000000.0, (2, 1): 1000000.0}\n"
     ]
    }
   ],
   "source": [
    "print(pseudoknot)\n",
    "print(overlap)"
   ]
  },
  {
   "cell_type": "code",
   "execution_count": 7,
   "id": "32fcfba3",
   "metadata": {},
   "outputs": [],
   "source": [
    "def calculate_linear_term(i):\n",
    "    stem = stems[i]\n",
    "    k = stem[2]\n",
    "    return CL*(k*k-2*k*mu+mu*mu)-CB*k*k"
   ]
  },
  {
   "cell_type": "code",
   "execution_count": 8,
   "id": "bb175643",
   "metadata": {},
   "outputs": [],
   "source": [
    "def calculate_quadratic_term(i,j):\n",
    "    k_i = stems[i][2]\n",
    "    k_j = stems[j][2]\n",
    "    return 2*CB*k_i*k_j*pseudoknot[(i,j)]+overlap[(i,j)]"
   ]
  },
  {
   "cell_type": "code",
   "execution_count": 9,
   "id": "89909be3",
   "metadata": {},
   "outputs": [],
   "source": [
    "from qiskit_optimization import QuadraticProgram\n",
    "qubo = QuadraticProgram()\n",
    "for i in range(0,len(stems)):\n",
    "    qubo.binary_var('q'+str(i))\n",
    "    linear_terms.append(calculate_linear_term(i))\n",
    "for i in range(0,len(stems)):\n",
    "    for j in range(0,len(stems)):\n",
    "        if i>j:\n",
    "            quadratic_terms[('q'+str(i),'q'+str(j))] = calculate_quadratic_term(i,j)\n",
    "qubo.minimize(linear=linear_terms, quadratic=quadratic_terms)"
   ]
  },
  {
   "cell_type": "code",
   "execution_count": 10,
   "id": "7b1215b6",
   "metadata": {},
   "outputs": [
    {
     "name": "stdout",
     "output_type": "stream",
     "text": [
      "\\ This file has been generated by DOcplex\n",
      "\\ ENCODING=ISO-8859-1\n",
      "\\Problem name: CPLEX\n",
      "\n",
      "Minimize\n",
      " obj: - 9 q0 - 9 q1 - 21 q2 + [ 18 q0*q1 + 2000030 q0*q2 + 2000060 q1*q2 ]/2\n",
      "Subject To\n",
      "\n",
      "Bounds\n",
      " 0 <= q0 <= 1\n",
      " 0 <= q1 <= 1\n",
      " 0 <= q2 <= 1\n",
      "\n",
      "Binaries\n",
      " q0 q1 q2\n",
      "End\n",
      "\n"
     ]
    }
   ],
   "source": [
    "print(qubo.export_as_lp_string())"
   ]
  },
  {
   "cell_type": "code",
   "execution_count": 11,
   "id": "b570b904",
   "metadata": {
    "scrolled": true
   },
   "outputs": [
    {
     "name": "stdout",
     "output_type": "stream",
     "text": [
      "offset: 499994.0\n",
      "operator:\n",
      "-500000.75 * ZII\n",
      "- 250005.25 * IZI\n",
      "+ 250007.5 * ZZI\n",
      "- 250001.5 * IIZ\n",
      "+ 250003.75 * ZIZ\n",
      "+ 2.25 * IZZ\n"
     ]
    }
   ],
   "source": [
    "op, offset = qubo.to_ising()\n",
    "print('offset: {}'.format(offset))\n",
    "print('operator:')\n",
    "print(op)"
   ]
  },
  {
   "cell_type": "code",
   "execution_count": 18,
   "id": "6bbd7020",
   "metadata": {},
   "outputs": [
    {
     "name": "stderr",
     "output_type": "stream",
     "text": [
      "ibmqfactory.load_account:WARNING:2022-01-10 12:42:29,371: Credentials are already in use. The existing account in the session will be replaced.\n"
     ]
    }
   ],
   "source": [
    "from qiskit import IBMQ\n",
    "provider = IBMQ.load_account()\n",
    "#backend = provider.backend.ibmq_bogota\n",
    "#backend = provider.get_backend('ibmq_bogota')\n",
    "#backend = provider.get_backend('ibmq_lima')\n",
    "#backend = provider.get_backend('ibmq_manila')\n",
    "backend= BasicAer.get_backend('statevector_simulator')"
   ]
  },
  {
   "cell_type": "code",
   "execution_count": 14,
   "id": "66f34f89",
   "metadata": {
    "scrolled": true
   },
   "outputs": [
    {
     "name": "stdout",
     "output_type": "stream",
     "text": [
      "optimal function value: -21.0\n",
      "optimal value: [0. 0. 1.]\n",
      "status: SUCCESS\n"
     ]
    }
   ],
   "source": [
    "algorithm_globals.random_seed = 10598\n",
    "quantum_instance = QuantumInstance(backend,\n",
    "                                   seed_simulator=algorithm_globals.random_seed,\n",
    "                                   seed_transpiler=algorithm_globals.random_seed)\n",
    "qaoa_mes = QAOA(quantum_instance=quantum_instance, initial_point=[0., 0.])\n",
    "qaoa = MinimumEigenOptimizer(qaoa_mes)\n",
    "qaoa_result = qaoa.solve(qubo)\n",
    "print(qaoa_result)"
   ]
  }
 ],
 "metadata": {
  "kernelspec": {
   "display_name": "Python 3 (ipykernel)",
   "language": "python",
   "name": "python3"
  },
  "language_info": {
   "codemirror_mode": {
    "name": "ipython",
    "version": 3
   },
   "file_extension": ".py",
   "mimetype": "text/x-python",
   "name": "python",
   "nbconvert_exporter": "python",
   "pygments_lexer": "ipython3",
   "version": "3.9.7"
  }
 },
 "nbformat": 4,
 "nbformat_minor": 5
}
